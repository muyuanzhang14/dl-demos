{
  "nbformat": 4,
  "nbformat_minor": 0,
  "metadata": {
    "colab": {
      "provenance": []
    },
    "kernelspec": {
      "name": "python3",
      "display_name": "Python 3"
    },
    "language_info": {
      "name": "python"
    },
    "accelerator": "GPU",
    "gpuClass": "standard"
  },
  "cells": [
    {
      "cell_type": "markdown",
      "source": [
        "# PyTorch Basics\n",
        "\n",
        "I'll assume that everyone is familiar with python. Training neural nets in bare python is somewhat painful, but fortunately there are several well-established libraries which can help. I like pytorch, which is built upon an earlier library called torch. There are many others, including TensorFlow and Jax."
      ],
      "metadata": {
        "id": "txDUKwFp2O9L"
      }
    },
    {
      "cell_type": "code",
      "execution_count": 1,
      "metadata": {
        "id": "GlCIT7IJ2L0K"
      },
      "outputs": [],
      "source": [
        "# We start by importing the libraries we'll use today\n",
        "import numpy as np\n",
        "import torch\n",
        "import torchvision"
      ]
    },
    {
      "cell_type": "code",
      "source": [
        "a = np.random.rand(2,3)\n",
        "b = torch.from_numpy(a)\n",
        "\n",
        "print(a)\n",
        "print(b)"
      ],
      "metadata": {
        "colab": {
          "base_uri": "https://localhost:8080/"
        },
        "id": "MvYbWcJji2gZ",
        "outputId": "da966604-1b85-4800-b5e1-629e7f103f59"
      },
      "execution_count": 2,
      "outputs": [
        {
          "output_type": "stream",
          "name": "stdout",
          "text": [
            "[[0.03762737 0.61531328 0.96379353]\n",
            " [0.44333666 0.53074609 0.18754791]]\n",
            "tensor([[0.0376, 0.6153, 0.9638],\n",
            "        [0.4433, 0.5307, 0.1875]], dtype=torch.float64)\n"
          ]
        }
      ]
    },
    {
      "cell_type": "code",
      "source": [
        "print(b + 10.0)\n",
        "print()\n",
        "print(torch.sin(b))\n",
        "print()\n",
        "print(b.sum())\n",
        "print()\n",
        "print(b.mean())\n",
        "print()\n",
        "print(b.shape)"
      ],
      "metadata": {
        "colab": {
          "base_uri": "https://localhost:8080/"
        },
        "id": "vDhu7psgjBVe",
        "outputId": "d5cb78c3-b61d-41db-9095-cf6a3093816e"
      },
      "execution_count": 3,
      "outputs": [
        {
          "output_type": "stream",
          "name": "stdout",
          "text": [
            "tensor([[10.0376, 10.6153, 10.9638],\n",
            "        [10.4433, 10.5307, 10.1875]], dtype=torch.float64)\n",
            "\n",
            "tensor([[0.0376, 0.5772, 0.8214],\n",
            "        [0.4290, 0.5062, 0.1865]], dtype=torch.float64)\n",
            "\n",
            "tensor(2.7784, dtype=torch.float64)\n",
            "\n",
            "tensor(0.4631, dtype=torch.float64)\n",
            "\n",
            "torch.Size([2, 3])\n"
          ]
        }
      ]
    },
    {
      "cell_type": "markdown",
      "source": [
        "Torch believes everything is a *tensor.*\n",
        "\n",
        "The main intuition is that tensors allow for intuitive and efficient matrix multiplication across different indexing dimensions. Soon, we will see that training neural nets basically consits of *forward* and *backward* passes, both of which are essentially matrix multiplies.\n",
        "\n",
        "The other thing about torch variables is that they (natively) can be differentiated. Again, we'll see why this is important when we learn about backpropagation."
      ],
      "metadata": {
        "id": "otMKsc9W2woY"
      }
    },
    {
      "cell_type": "markdown",
      "source": [
        "Suppose we want $dy/da$ in the following expression:\n",
        "- $y = a + b$"
      ],
      "metadata": {
        "id": "4DihuedmqDyz"
      }
    },
    {
      "cell_type": "code",
      "source": [
        "a = torch.rand(1,1, requires_grad=True)\n",
        "b = torch.rand(1,1)\n",
        "y = a + b\n",
        "print(\"a:\", a)\n",
        "print(\"b:\", b)\n",
        "print(\"y:\", y)"
      ],
      "metadata": {
        "colab": {
          "base_uri": "https://localhost:8080/"
        },
        "id": "5YhcphgzjZXK",
        "outputId": "caca83a2-bd71-4075-d033-ae51b2fc098a"
      },
      "execution_count": 4,
      "outputs": [
        {
          "output_type": "stream",
          "name": "stdout",
          "text": [
            "a: tensor([[0.1557]], requires_grad=True)\n",
            "b: tensor([[0.9482]])\n",
            "y: tensor([[1.1039]], grad_fn=<AddBackward0>)\n"
          ]
        }
      ]
    },
    {
      "cell_type": "markdown",
      "source": [
        "Here, $y$ is a function of the input $a$ so we can use PyTorch to compute $dy/da$"
      ],
      "metadata": {
        "id": "L3DxgbnpyQmA"
      }
    },
    {
      "cell_type": "code",
      "source": [
        "y.backward()\n",
        "print(\"dy/da:\", a.grad)"
      ],
      "metadata": {
        "colab": {
          "base_uri": "https://localhost:8080/"
        },
        "id": "EWcV4s7zyMdW",
        "outputId": "f4624f1c-4927-43ec-c124-de15784829de"
      },
      "execution_count": 5,
      "outputs": [
        {
          "output_type": "stream",
          "name": "stdout",
          "text": [
            "dy/da: tensor([[1.]])\n"
          ]
        }
      ]
    },
    {
      "cell_type": "markdown",
      "source": [
        "Let's try this again with a more complex function:\n",
        "- $y = a^2 \\cdot b$\n",
        "\n"
      ],
      "metadata": {
        "id": "zAQSva_osWlH"
      }
    },
    {
      "cell_type": "code",
      "source": [
        "a = torch.rand(1,1, requires_grad=True)\n",
        "b = torch.rand(1,1)\n",
        "y = (a**2)*b\n",
        "print(\"a:\", a)\n",
        "print(\"b:\", b)\n",
        "print(\"y:\", y)\n",
        "y.backward()\n",
        "print(\"dy/da:\", a.grad)\n",
        "print(\"dy/da:\", 2 * a * b)"
      ],
      "metadata": {
        "colab": {
          "base_uri": "https://localhost:8080/"
        },
        "id": "rjxHZS1or4Rb",
        "outputId": "fca1728a-a07c-4dad-884e-ffa84b9f1df4"
      },
      "execution_count": 6,
      "outputs": [
        {
          "output_type": "stream",
          "name": "stdout",
          "text": [
            "a: tensor([[0.3580]], requires_grad=True)\n",
            "b: tensor([[0.8442]])\n",
            "y: tensor([[0.1082]], grad_fn=<MulBackward0>)\n",
            "dy/da: tensor([[0.6045]])\n",
            "dy/da: tensor([[0.6045]], grad_fn=<MulBackward0>)\n"
          ]
        }
      ]
    },
    {
      "cell_type": "markdown",
      "source": [
        "Torch has calculated $dy/da$ using backpropagation which is in agreement with our answer calculated using standard differentiation rules."
      ],
      "metadata": {
        "id": "cDdbLxhFX1vW"
      }
    },
    {
      "cell_type": "markdown",
      "source": [
        "Here is an example with matrices and vectors:"
      ],
      "metadata": {
        "id": "Qn8qXugsAZ5I"
      }
    },
    {
      "cell_type": "code",
      "source": [
        "A = torch.rand(2,2)\n",
        "b = torch.rand(2,1)\n",
        "x = torch.rand(2,1, requires_grad = True)\n",
        "\n",
        "y = torch.matmul(A, x) + b\n",
        "z = y.sum()"
      ],
      "metadata": {
        "id": "2F0-AtH32vae"
      },
      "execution_count": 7,
      "outputs": []
    },
    {
      "cell_type": "markdown",
      "source": [
        "Here, $z$ is a function of the input $x$. Let us now compute the derivative of $z$ with respect to $x$ using backpropagation."
      ],
      "metadata": {
        "id": "kbWH5spr3TS3"
      }
    },
    {
      "cell_type": "code",
      "source": [
        "z.backward()\n",
        "print(x)\n",
        "print(x.grad)"
      ],
      "metadata": {
        "colab": {
          "base_uri": "https://localhost:8080/"
        },
        "id": "MpUgxwJC3Nat",
        "outputId": "990ba0dc-bc4a-4ba9-abbb-72cffe029b7e"
      },
      "execution_count": 8,
      "outputs": [
        {
          "output_type": "stream",
          "name": "stdout",
          "text": [
            "tensor([[0.4047],\n",
            "        [0.2569]], requires_grad=True)\n",
            "tensor([[1.2024],\n",
            "        [1.1582]])\n"
          ]
        }
      ]
    },
    {
      "cell_type": "markdown",
      "source": [
        "## Training simple models\n",
        "\n",
        "Let's jump in with our first, simple model. We will train a logistic classifier (equivalent to using a single-layer neural network) on a popular image dataset called *Fashion-MNIST*. Torchvision also has several other image datasets which we can directly load as variables."
      ],
      "metadata": {
        "id": "_09Os5Jv3h-9"
      }
    },
    {
      "cell_type": "code",
      "source": [
        "trainingdata = torchvision.datasets.FashionMNIST('./FashionMNIST/',train=True,download=True,transform=torchvision.transforms.ToTensor())\n",
        "testdata = torchvision.datasets.FashionMNIST('./FashionMNIST/',train=False,download=True,transform=torchvision.transforms.ToTensor())\n"
      ],
      "metadata": {
        "id": "q4j1iTpV3htP",
        "colab": {
          "base_uri": "https://localhost:8080/"
        },
        "outputId": "4cc332af-9d99-42cc-a104-dbeacd73428c"
      },
      "execution_count": 9,
      "outputs": [
        {
          "output_type": "stream",
          "name": "stdout",
          "text": [
            "Downloading http://fashion-mnist.s3-website.eu-central-1.amazonaws.com/train-images-idx3-ubyte.gz\n",
            "Downloading http://fashion-mnist.s3-website.eu-central-1.amazonaws.com/train-images-idx3-ubyte.gz to ./FashionMNIST/FashionMNIST/raw/train-images-idx3-ubyte.gz\n"
          ]
        },
        {
          "output_type": "stream",
          "name": "stderr",
          "text": [
            "100%|██████████| 26.4M/26.4M [00:02<00:00, 10.9MB/s]\n"
          ]
        },
        {
          "output_type": "stream",
          "name": "stdout",
          "text": [
            "Extracting ./FashionMNIST/FashionMNIST/raw/train-images-idx3-ubyte.gz to ./FashionMNIST/FashionMNIST/raw\n",
            "\n",
            "Downloading http://fashion-mnist.s3-website.eu-central-1.amazonaws.com/train-labels-idx1-ubyte.gz\n",
            "Downloading http://fashion-mnist.s3-website.eu-central-1.amazonaws.com/train-labels-idx1-ubyte.gz to ./FashionMNIST/FashionMNIST/raw/train-labels-idx1-ubyte.gz\n"
          ]
        },
        {
          "output_type": "stream",
          "name": "stderr",
          "text": [
            "100%|██████████| 29.5k/29.5k [00:00<00:00, 169kB/s]\n"
          ]
        },
        {
          "output_type": "stream",
          "name": "stdout",
          "text": [
            "Extracting ./FashionMNIST/FashionMNIST/raw/train-labels-idx1-ubyte.gz to ./FashionMNIST/FashionMNIST/raw\n",
            "\n",
            "Downloading http://fashion-mnist.s3-website.eu-central-1.amazonaws.com/t10k-images-idx3-ubyte.gz\n",
            "Downloading http://fashion-mnist.s3-website.eu-central-1.amazonaws.com/t10k-images-idx3-ubyte.gz to ./FashionMNIST/FashionMNIST/raw/t10k-images-idx3-ubyte.gz\n"
          ]
        },
        {
          "output_type": "stream",
          "name": "stderr",
          "text": [
            "100%|██████████| 4.42M/4.42M [00:01<00:00, 3.21MB/s]\n"
          ]
        },
        {
          "output_type": "stream",
          "name": "stdout",
          "text": [
            "Extracting ./FashionMNIST/FashionMNIST/raw/t10k-images-idx3-ubyte.gz to ./FashionMNIST/FashionMNIST/raw\n",
            "\n",
            "Downloading http://fashion-mnist.s3-website.eu-central-1.amazonaws.com/t10k-labels-idx1-ubyte.gz\n",
            "Downloading http://fashion-mnist.s3-website.eu-central-1.amazonaws.com/t10k-labels-idx1-ubyte.gz to ./FashionMNIST/FashionMNIST/raw/t10k-labels-idx1-ubyte.gz\n"
          ]
        },
        {
          "output_type": "stream",
          "name": "stderr",
          "text": [
            "100%|██████████| 5.15k/5.15k [00:00<00:00, 10.8MB/s]"
          ]
        },
        {
          "output_type": "stream",
          "name": "stdout",
          "text": [
            "Extracting ./FashionMNIST/FashionMNIST/raw/t10k-labels-idx1-ubyte.gz to ./FashionMNIST/FashionMNIST/raw\n",
            "\n"
          ]
        },
        {
          "output_type": "stream",
          "name": "stderr",
          "text": [
            "\n"
          ]
        }
      ]
    },
    {
      "cell_type": "markdown",
      "source": [
        "Let's check that everything has been downloaded."
      ],
      "metadata": {
        "id": "VDzG3rgo3052"
      }
    },
    {
      "cell_type": "code",
      "source": [
        "print(len(trainingdata))\n",
        "print(len(testdata))"
      ],
      "metadata": {
        "colab": {
          "base_uri": "https://localhost:8080/"
        },
        "id": "22dRVEKY3z37",
        "outputId": "eeae33b5-c9cb-433b-d6b5-588c425c7cff"
      },
      "execution_count": 10,
      "outputs": [
        {
          "output_type": "stream",
          "name": "stdout",
          "text": [
            "60000\n",
            "10000\n"
          ]
        }
      ]
    },
    {
      "cell_type": "markdown",
      "source": [
        "Let's investigate to see what's inside the dataset."
      ],
      "metadata": {
        "id": "nVE1Aqo_4Bx9"
      }
    },
    {
      "cell_type": "code",
      "source": [
        "image, label = trainingdata[0]\n",
        "print(image.shape, label)"
      ],
      "metadata": {
        "colab": {
          "base_uri": "https://localhost:8080/"
        },
        "id": "bf0Snhu-4A_c",
        "outputId": "56d5f4bb-e5af-4168-e429-9ac59c28dbe4"
      },
      "execution_count": 11,
      "outputs": [
        {
          "output_type": "stream",
          "name": "stdout",
          "text": [
            "torch.Size([1, 28, 28]) 9\n"
          ]
        }
      ]
    },
    {
      "cell_type": "markdown",
      "source": [
        "We cannot directly plot the image object given that its first dimension has a size of 1. So we will use the `squeeze` function to get rid of the first dimension."
      ],
      "metadata": {
        "id": "pWzhVnwN4Img"
      }
    },
    {
      "cell_type": "code",
      "source": [
        "print(image.squeeze().shape)"
      ],
      "metadata": {
        "colab": {
          "base_uri": "https://localhost:8080/"
        },
        "id": "STrrNZFf2uYg",
        "outputId": "db686478-bc9e-4220-9a5c-c615c7455a62"
      },
      "execution_count": 12,
      "outputs": [
        {
          "output_type": "stream",
          "name": "stdout",
          "text": [
            "torch.Size([28, 28])\n"
          ]
        }
      ]
    },
    {
      "cell_type": "code",
      "source": [
        "import matplotlib.pyplot as plt\n",
        "%matplotlib inline\n",
        "plt.imshow(image.squeeze(), cmap=plt.cm.gray)"
      ],
      "metadata": {
        "colab": {
          "base_uri": "https://localhost:8080/",
          "height": 447
        },
        "id": "XSoAec0d4H2j",
        "outputId": "f1c3625b-1477-4285-cdb7-065e0270e619"
      },
      "execution_count": 13,
      "outputs": [
        {
          "output_type": "execute_result",
          "data": {
            "text/plain": [
              "<matplotlib.image.AxesImage at 0x7f78ae619550>"
            ]
          },
          "metadata": {},
          "execution_count": 13
        },
        {
          "output_type": "display_data",
          "data": {
            "text/plain": [
              "<Figure size 640x480 with 1 Axes>"
            ],
            "image/png": "[encoded data removed]"
          },
          "metadata": {}
        }
      ]
    },
    {
      "cell_type": "markdown",
      "source": [
        "Looks like a shoe? Fashion-MNIST is a bunch of different black and white images of clothing with a corresponding label identifying the category the clothing belongs to. It looks like label 9 corresponds to shoes.\n",
        "\n",
        "In order to nicely wrap the process of iterating through the dataset, we'll use a dataloader."
      ],
      "metadata": {
        "id": "2M2X2FW94Tx5"
      }
    },
    {
      "cell_type": "code",
      "source": [
        "trainDataLoader = torch.utils.data.DataLoader(trainingdata,batch_size=64,shuffle=True)\n",
        "testDataLoader = torch.utils.data.DataLoader(testdata,batch_size=64,shuffle=False)"
      ],
      "metadata": {
        "id": "zrqhfhQ94h9F"
      },
      "execution_count": 14,
      "outputs": []
    },
    {
      "cell_type": "markdown",
      "source": [
        "Let's also check the length of the train and test dataloader"
      ],
      "metadata": {
        "id": "IaNv97ra250d"
      }
    },
    {
      "cell_type": "code",
      "source": [
        "print(len(trainDataLoader))\n",
        "print(len(testDataLoader))"
      ],
      "metadata": {
        "colab": {
          "base_uri": "https://localhost:8080/"
        },
        "id": "t8HqOFhb3Ajp",
        "outputId": "bb4af4ed-9c13-44b6-c5c0-d7497eae46b5"
      },
      "execution_count": 15,
      "outputs": [
        {
          "output_type": "stream",
          "name": "stdout",
          "text": [
            "938\n",
            "157\n"
          ]
        }
      ]
    },
    {
      "cell_type": "markdown",
      "source": [
        "The length here depends upon the batch size defined above. Multiplying the length of our dataloader by the batch size should give us back the number of samples in each set."
      ],
      "metadata": {
        "id": "9CzCOA5-YK6i"
      }
    },
    {
      "cell_type": "code",
      "source": [
        "print(len(trainDataLoader) * 64) # batch_size from above\n",
        "print(len(testDataLoader) * 64)"
      ],
      "metadata": {
        "colab": {
          "base_uri": "https://localhost:8080/"
        },
        "id": "TEKU8Vcl3EXz",
        "outputId": "dca2629d-30f8-44da-e6d3-97d2defa7ca2"
      },
      "execution_count": 16,
      "outputs": [
        {
          "output_type": "stream",
          "name": "stdout",
          "text": [
            "60032\n",
            "10048\n"
          ]
        }
      ]
    },
    {
      "cell_type": "markdown",
      "source": [
        "Now let's use it to look at a few images."
      ],
      "metadata": {
        "id": "AQ_9qunz4xUd"
      }
    },
    {
      "cell_type": "code",
      "source": [
        "images, labels = next(iter(trainDataLoader))\n",
        "\n",
        "plt.figure(figsize=(10,4))\n",
        "for index in np.arange(0,5):\n",
        "  plt.subplot(1,5,index+1)\n",
        "  plt.title(f'Label: {labels[index].item()}')\n",
        "  plt.imshow(images[index].squeeze(),cmap=plt.cm.gray)"
      ],
      "metadata": {
        "colab": {
          "base_uri": "https://localhost:8080/",
          "height": 216
        },
        "id": "da5yKkMo4zKz",
        "outputId": "bf96eca7-559e-4f94-b963-b34ea3c6804d"
      },
      "execution_count": 17,
      "outputs": [
        {
          "output_type": "display_data",
          "data": {
            "text/plain": [
              "<Figure size 1000x400 with 5 Axes>"
            ],
            "image/png": "[encoded data removed]"
          },
          "metadata": {}
        }
      ]
    },
    {
      "cell_type": "markdown",
      "source": [
        "Now let's set up our model."
      ],
      "metadata": {
        "id": "VGyspXXr5FUk"
      }
    },
    {
      "cell_type": "markdown",
      "source": [
        "The following is my code for training the Dense network"
      ],
      "metadata": {
        "id": "8VScmYcTcGAa"
      }
    },
    {
      "cell_type": "code",
      "source": [
        "# Now set up a dense neural network with 3 hidden layers\n",
        "class DenseNeuralNetwork(torch.nn.Module):\n",
        "  def __init__(self):\n",
        "    super(DenseNeuralNetwork, self).__init__()\n",
        "\n",
        "    # Define Layer 1-3\n",
        "    self.layer1 = torch.nn.Linear(28*28, 256)\n",
        "    self.layer2 = torch.nn.Linear(256, 128)\n",
        "    self.layer3 = torch.nn.Linear(128, 64)\n",
        "\n",
        "    # Define Output lyaer\n",
        "    self.output = torch.nn.Linear(64, 10)\n",
        "\n",
        "    # Define ReLU function\n",
        "    self.relu = torch.nn.ReLU()\n",
        "\n",
        "  def forward(self, x):\n",
        "    x = x.view(-1, 28*28)\n",
        "    x = self.relu(self.layer1(x))\n",
        "    x = self.relu(self.layer2(x))\n",
        "    x = self.relu(self.layer3(x))\n",
        "    x = self.output(x)\n",
        "    return x\n",
        "\n",
        "# Xavier intialization\n",
        "def init_weights(m):\n",
        "  if type(m) == torch.nn.Linear:\n",
        "    torch.nn.init.xavier_uniform_(m.weight)\n",
        "    m.bias.data.fill_(0.01)\n",
        "\n",
        "model = DenseNeuralNetwork().cuda() # Step 1: architecture\n",
        "model.apply(init_weights) # Apply Initialization to the model\n",
        "loss = torch.nn.CrossEntropyLoss() # Step 2: loss\n",
        "optimizer = torch.optim.Adam(model.parameters(), lr=0.0001, weight_decay=1e-5) # Step 3: training method - Use ADAM optimizer and weight decay to prevent overfitting\n",
        "\n"
      ],
      "metadata": {
        "id": "dS9bdLSXZmWk"
      },
      "execution_count": 40,
      "outputs": []
    },
    {
      "cell_type": "code",
      "source": [
        "train_loss_history = []\n",
        "test_loss_history = []\n",
        "# Number of epochs\n",
        "num_epochs = 50\n",
        "for epoch in range(num_epochs + 1):\n",
        "  train_loss = 0.0\n",
        "  test_loss = 0.0\n",
        "\n",
        "  model.train()\n",
        "  for i, data in enumerate(trainDataLoader):\n",
        "    images, labels = data\n",
        "    images = images.cuda()\n",
        "    labels = labels.cuda()\n",
        "    optimizer.zero_grad() # zero out any gradient values from the previous iteration\n",
        "    predicted_output = model(images) # forward propagation\n",
        "    fit = loss(predicted_output, labels)  # calculate our measure of goodness\n",
        "    fit.backward() # backpropagation\n",
        "    optimizer.step() # update the weights of our trainable parameters\n",
        "    train_loss += fit.item()\n",
        "  model.eval()\n",
        "  for i, data in enumerate(testDataLoader):\n",
        "    with torch.no_grad():\n",
        "      images, labels = data\n",
        "      images = images.cuda()\n",
        "      labels = labels.cuda()\n",
        "      predicted_output = model(images)\n",
        "      fit = loss(predicted_output, labels)\n",
        "      test_loss += fit.item()\n",
        "  train_loss = train_loss / len(trainDataLoader)\n",
        "  test_loss = test_loss / len(testDataLoader)\n",
        "  train_loss_history += [train_loss]\n",
        "  test_loss_history += [test_loss]\n",
        "  print(f'Epoch {epoch}, Train loss {train_loss}, Test loss {test_loss}')"
      ],
      "metadata": {
        "id": "eGTcLUaQcMRA",
        "outputId": "5d5c4622-f911-4b65-d2a4-d479ca0178cf",
        "colab": {
          "base_uri": "https://localhost:8080/"
        }
      },
      "execution_count": 41,
      "outputs": [
        {
          "output_type": "stream",
          "name": "stdout",
          "text": [
            "Epoch 0, Train loss 0.6769874866551427, Test loss 0.47829101894311843\n",
            "Epoch 1, Train loss 0.4279551418827795, Test loss 0.4248583801802556\n",
            "Epoch 2, Train loss 0.3867576879415431, Test loss 0.40059608410877784\n",
            "Epoch 3, Train loss 0.3610399105687385, Test loss 0.38207414831705155\n",
            "Epoch 4, Train loss 0.3419998084971391, Test loss 0.39114483611978546\n",
            "Epoch 5, Train loss 0.3266430283183736, Test loss 0.36559712193953764\n",
            "Epoch 6, Train loss 0.3133969098679038, Test loss 0.3741952007173733\n",
            "Epoch 7, Train loss 0.3031883469141368, Test loss 0.3487335378956643\n",
            "Epoch 8, Train loss 0.2937447109551572, Test loss 0.354070563794701\n",
            "Epoch 9, Train loss 0.2846493598129322, Test loss 0.35993177049858555\n",
            "Epoch 10, Train loss 0.2762797070480486, Test loss 0.3374301005320944\n",
            "Epoch 11, Train loss 0.26885935743607436, Test loss 0.3403363645456399\n",
            "Epoch 12, Train loss 0.2606695103032121, Test loss 0.32904925743106067\n",
            "Epoch 13, Train loss 0.25450654533991557, Test loss 0.32832364519690255\n",
            "Epoch 14, Train loss 0.24890788608014203, Test loss 0.33351754762564495\n",
            "Epoch 15, Train loss 0.24211847093472602, Test loss 0.32762461682413796\n",
            "Epoch 16, Train loss 0.23801760613791215, Test loss 0.3209115613702756\n",
            "Epoch 17, Train loss 0.23220778299547207, Test loss 0.3187051815496888\n",
            "Epoch 18, Train loss 0.22630765895520064, Test loss 0.31938263280376505\n",
            "Epoch 19, Train loss 0.22148719081269908, Test loss 0.31765690896731275\n",
            "Epoch 20, Train loss 0.21778982751436834, Test loss 0.3320662607053283\n",
            "Epoch 21, Train loss 0.21299228538026307, Test loss 0.3120471071095983\n",
            "Epoch 22, Train loss 0.20727997964649186, Test loss 0.3188732860574297\n",
            "Epoch 23, Train loss 0.20304637571880177, Test loss 0.31898509359853283\n",
            "Epoch 24, Train loss 0.1988800380275702, Test loss 0.3263028949309307\n",
            "Epoch 25, Train loss 0.1946512030711624, Test loss 0.30979589088137743\n",
            "Epoch 26, Train loss 0.19176160000455278, Test loss 0.3092435371059521\n",
            "Epoch 27, Train loss 0.18668558736091484, Test loss 0.31674275632686677\n",
            "Epoch 28, Train loss 0.18135149127194114, Test loss 0.3157660090809415\n",
            "Epoch 29, Train loss 0.17861909289230735, Test loss 0.31834246161257385\n",
            "Epoch 30, Train loss 0.174848148916989, Test loss 0.3229444683737056\n",
            "Epoch 31, Train loss 0.17164206572734853, Test loss 0.3089308695523602\n",
            "Epoch 32, Train loss 0.16820973507972606, Test loss 0.3184639121032065\n",
            "Epoch 33, Train loss 0.165168150651779, Test loss 0.3233587190413931\n",
            "Epoch 34, Train loss 0.1601986827563121, Test loss 0.32993944354687527\n",
            "Epoch 35, Train loss 0.15782603422906608, Test loss 0.33433886446580763\n",
            "Epoch 36, Train loss 0.15377972963482522, Test loss 0.3239934093728187\n",
            "Epoch 37, Train loss 0.15172653039818063, Test loss 0.32200307906812925\n",
            "Epoch 38, Train loss 0.14822624453992794, Test loss 0.34240624958732324\n",
            "Epoch 39, Train loss 0.14621477348130268, Test loss 0.3410416950655591\n",
            "Epoch 40, Train loss 0.1408373527347978, Test loss 0.35334030927935983\n",
            "Epoch 41, Train loss 0.1374047643888289, Test loss 0.329936892933147\n",
            "Epoch 42, Train loss 0.13456032558409833, Test loss 0.33467963964316494\n",
            "Epoch 43, Train loss 0.13222057264306145, Test loss 0.3449247669262491\n",
            "Epoch 44, Train loss 0.12920844897842293, Test loss 0.36441730892961954\n",
            "Epoch 45, Train loss 0.1267615792009908, Test loss 0.33906608312183123\n",
            "Epoch 46, Train loss 0.12237360075052613, Test loss 0.34304719705395637\n",
            "Epoch 47, Train loss 0.12199730156009385, Test loss 0.3524939263844566\n",
            "Epoch 48, Train loss 0.11740961334685972, Test loss 0.34783941915460453\n",
            "Epoch 49, Train loss 0.11571783418737368, Test loss 0.35907816137098203\n",
            "Epoch 50, Train loss 0.11165762762390156, Test loss 0.36076447324957817\n"
          ]
        }
      ]
    },
    {
      "cell_type": "markdown",
      "source": [
        "Now let's train our model!"
      ],
      "metadata": {
        "id": "r6s7Ecae5tIU"
      }
    },
    {
      "cell_type": "markdown",
      "source": [
        "Let's plot our loss by training epoch to see how we did."
      ],
      "metadata": {
        "id": "fh-rlPJ46-yj"
      }
    },
    {
      "cell_type": "code",
      "source": [
        "plt.plot(range(num_epochs+1),train_loss_history,'-',linewidth=3,label='Train error')\n",
        "plt.plot(range(num_epochs+1),test_loss_history,'-',linewidth=3,label='Test error')\n",
        "plt.xlabel('epoch')\n",
        "plt.ylabel('loss')\n",
        "plt.grid(True)\n",
        "plt.legend()\n",
        "plt.show()"
      ],
      "metadata": {
        "colab": {
          "base_uri": "https://localhost:8080/",
          "height": 452
        },
        "id": "vP9KBzxz7Bif",
        "outputId": "37194e3d-c991-4aaa-9c81-fb6addffd0e0"
      },
      "execution_count": 44,
      "outputs": [
        {
          "output_type": "display_data",
          "data": {
            "text/plain": [
              "<Figure size 640x480 with 1 Axes>"
            ],
            "image/png": "[encoded data removed]"
          },
          "metadata": {}
        }
      ]
    },
    {
      "cell_type": "markdown",
      "source": [
        "Why is test loss larger than training loss?\n",
        "\n",
        "We definitely see some improvement. Let's look at the images, the predictions our model makes and the true label."
      ],
      "metadata": {
        "id": "IyPSu5tr7Enh"
      }
    },
    {
      "cell_type": "markdown",
      "source": [
        "Now for the labels and predicted labels."
      ],
      "metadata": {
        "id": "j4ZJAue77Oa4"
      }
    },
    {
      "cell_type": "code",
      "source": [
        "predicted_outputs = model(images)\n",
        "predicted_classes = torch.max(predicted_outputs, 1)[1]\n",
        "print('Predicted:', predicted_classes)\n",
        "fit = loss(predicted_output, labels)\n",
        "print('True labels:', labels)\n",
        "print(fit.item())"
      ],
      "metadata": {
        "colab": {
          "base_uri": "https://localhost:8080/"
        },
        "id": "PWAHUPQf7Nuj",
        "outputId": "6658087f-3a30-477d-945d-17e1ffaba4bc"
      },
      "execution_count": 45,
      "outputs": [
        {
          "output_type": "stream",
          "name": "stdout",
          "text": [
            "Predicted: tensor([3, 2, 7, 5, 8, 4, 5, 6, 8, 9, 1, 9, 1, 8, 1, 5], device='cuda:0')\n",
            "True labels: tensor([3, 2, 7, 5, 8, 4, 5, 6, 8, 9, 1, 9, 1, 8, 1, 5], device='cuda:0')\n",
            "0.04693467915058136\n"
          ]
        }
      ]
    },
    {
      "cell_type": "code",
      "source": [
        "plt.imshow(images[1].squeeze().cpu(), cmap=plt.cm.gray)\n",
        "plt.title(f'Pred: {predicted_classes[1].item()}, True: {labels[1].item()}')"
      ],
      "metadata": {
        "colab": {
          "base_uri": "https://localhost:8080/",
          "height": 469
        },
        "id": "fODInaCcLBIF",
        "outputId": "9f96f375-fcaa-4dbd-fbef-7e680d635315"
      },
      "execution_count": 46,
      "outputs": [
        {
          "output_type": "execute_result",
          "data": {
            "text/plain": [
              "Text(0.5, 1.0, 'Pred: 2, True: 2')"
            ]
          },
          "metadata": {},
          "execution_count": 46
        },
        {
          "output_type": "display_data",
          "data": {
            "text/plain": [
              "<Figure size 640x480 with 1 Axes>"
            ],
            "image/png": "[encoded data removed]"
          },
          "metadata": {}
        }
      ]
    },
    {
      "cell_type": "code",
      "source": [
        "plt.imshow(images[2].squeeze().cpu(), cmap=plt.cm.gray)\n",
        "plt.title(f'Pred: {predicted_classes[2].item()}, True: {labels[2].item()}')"
      ],
      "metadata": {
        "id": "QMrS_TTdnABn",
        "outputId": "e15f6421-1d2e-41c4-dd12-8c467f06385f",
        "colab": {
          "base_uri": "https://localhost:8080/",
          "height": 469
        }
      },
      "execution_count": 47,
      "outputs": [
        {
          "output_type": "execute_result",
          "data": {
            "text/plain": [
              "Text(0.5, 1.0, 'Pred: 7, True: 7')"
            ]
          },
          "metadata": {},
          "execution_count": 47
        },
        {
          "output_type": "display_data",
          "data": {
            "text/plain": [
              "<Figure size 640x480 with 1 Axes>"
            ],
            "image/png": "[encoded data removed]"
          },
          "metadata": {}
        }
      ]
    },
    {
      "cell_type": "code",
      "source": [
        "plt.imshow(images[15].squeeze().cpu(), cmap=plt.cm.gray)\n",
        "plt.title(f'Pred: {predicted_classes[15].item()}, True: {labels[15].item()}')"
      ],
      "metadata": {
        "id": "DtauBRJcnFXi",
        "outputId": "966b1dcb-3a49-4724-fc7e-a97d3c3a8c8c",
        "colab": {
          "base_uri": "https://localhost:8080/",
          "height": 469
        }
      },
      "execution_count": 49,
      "outputs": [
        {
          "output_type": "execute_result",
          "data": {
            "text/plain": [
              "Text(0.5, 1.0, 'Pred: 5, True: 5')"
            ]
          },
          "metadata": {},
          "execution_count": 49
        },
        {
          "output_type": "display_data",
          "data": {
            "text/plain": [
              "<Figure size 640x480 with 1 Axes>"
            ],
            "image/png": "[encoded data removed]"
          },
          "metadata": {}
        }
      ]
    }
  ]
}